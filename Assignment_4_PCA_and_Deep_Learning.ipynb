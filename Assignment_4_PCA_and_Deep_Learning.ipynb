{
  "nbformat": 4,
  "nbformat_minor": 0,
  "metadata": {
    "colab": {
      "provenance": []
    },
    "kernelspec": {
      "name": "python3",
      "display_name": "Python 3"
    },
    "language_info": {
      "name": "python"
    }
  },
  "cells": [
    {
      "cell_type": "markdown",
      "source": [
        "#Assignment #4\n",
        "##Intro to Machine Learning\n",
        "###Rhichard Koh"
      ],
      "metadata": {
        "id": "tLMA1GCafuGc"
      }
    },
    {
      "cell_type": "markdown",
      "source": [
        "# Data Preprocessing"
      ],
      "metadata": {
        "id": "ahmZuqIffkH0"
      }
    },
    {
      "cell_type": "markdown",
      "source": [
        "1. Load the adult.data dataset"
      ],
      "metadata": {
        "id": "AlelmKySfonQ"
      }
    },
    {
      "cell_type": "code",
      "execution_count": 1,
      "metadata": {
        "id": "RmftWV9jd6Kz"
      },
      "outputs": [],
      "source": [
        "#1\n",
        "import pandas as pd\n",
        "import numpy as np\n",
        "\n",
        "URL = 'https://archive.ics.uci.edu/ml/machine-learning-databases/adult/adult.data'\n",
        "\n",
        "df = pd.read_csv(URL, names=['age', 'workclass', 'fnlwgt', 'education', 'education-num', 'marital-status', 'occupation', 'relationship', 'race', 'sex', 'capital-gain', 'capital-loss', 'hours-per-week', 'native-country', 'income'])"
      ]
    },
    {
      "cell_type": "code",
      "source": [
        "df"
      ],
      "metadata": {
        "colab": {
          "base_uri": "https://localhost:8080/",
          "height": 468
        },
        "id": "6jlIgKf4f-DL",
        "outputId": "ecd74554-0817-46b1-9435-7a87bab931b8"
      },
      "execution_count": 2,
      "outputs": [
        {
          "output_type": "execute_result",
          "data": {
            "text/plain": [
              "       age          workclass  fnlwgt    education  education-num  \\\n",
              "0       39          State-gov   77516    Bachelors             13   \n",
              "1       50   Self-emp-not-inc   83311    Bachelors             13   \n",
              "2       38            Private  215646      HS-grad              9   \n",
              "3       53            Private  234721         11th              7   \n",
              "4       28            Private  338409    Bachelors             13   \n",
              "...    ...                ...     ...          ...            ...   \n",
              "32556   27            Private  257302   Assoc-acdm             12   \n",
              "32557   40            Private  154374      HS-grad              9   \n",
              "32558   58            Private  151910      HS-grad              9   \n",
              "32559   22            Private  201490      HS-grad              9   \n",
              "32560   52       Self-emp-inc  287927      HS-grad              9   \n",
              "\n",
              "            marital-status          occupation    relationship    race  \\\n",
              "0            Never-married        Adm-clerical   Not-in-family   White   \n",
              "1       Married-civ-spouse     Exec-managerial         Husband   White   \n",
              "2                 Divorced   Handlers-cleaners   Not-in-family   White   \n",
              "3       Married-civ-spouse   Handlers-cleaners         Husband   Black   \n",
              "4       Married-civ-spouse      Prof-specialty            Wife   Black   \n",
              "...                    ...                 ...             ...     ...   \n",
              "32556   Married-civ-spouse        Tech-support            Wife   White   \n",
              "32557   Married-civ-spouse   Machine-op-inspct         Husband   White   \n",
              "32558              Widowed        Adm-clerical       Unmarried   White   \n",
              "32559        Never-married        Adm-clerical       Own-child   White   \n",
              "32560   Married-civ-spouse     Exec-managerial            Wife   White   \n",
              "\n",
              "           sex  capital-gain  capital-loss  hours-per-week  native-country  \\\n",
              "0         Male          2174             0              40   United-States   \n",
              "1         Male             0             0              13   United-States   \n",
              "2         Male             0             0              40   United-States   \n",
              "3         Male             0             0              40   United-States   \n",
              "4       Female             0             0              40            Cuba   \n",
              "...        ...           ...           ...             ...             ...   \n",
              "32556   Female             0             0              38   United-States   \n",
              "32557     Male             0             0              40   United-States   \n",
              "32558   Female             0             0              40   United-States   \n",
              "32559     Male             0             0              20   United-States   \n",
              "32560   Female         15024             0              40   United-States   \n",
              "\n",
              "       income  \n",
              "0       <=50K  \n",
              "1       <=50K  \n",
              "2       <=50K  \n",
              "3       <=50K  \n",
              "4       <=50K  \n",
              "...       ...  \n",
              "32556   <=50K  \n",
              "32557    >50K  \n",
              "32558   <=50K  \n",
              "32559   <=50K  \n",
              "32560    >50K  \n",
              "\n",
              "[32561 rows x 15 columns]"
            ],
            "text/html": [
              "\n",
              "  <div id=\"df-e446ce87-9e6a-4356-bc07-3f72e00af3e3\">\n",
              "    <div class=\"colab-df-container\">\n",
              "      <div>\n",
              "<style scoped>\n",
              "    .dataframe tbody tr th:only-of-type {\n",
              "        vertical-align: middle;\n",
              "    }\n",
              "\n",
              "    .dataframe tbody tr th {\n",
              "        vertical-align: top;\n",
              "    }\n",
              "\n",
              "    .dataframe thead th {\n",
              "        text-align: right;\n",
              "    }\n",
              "</style>\n",
              "<table border=\"1\" class=\"dataframe\">\n",
              "  <thead>\n",
              "    <tr style=\"text-align: right;\">\n",
              "      <th></th>\n",
              "      <th>age</th>\n",
              "      <th>workclass</th>\n",
              "      <th>fnlwgt</th>\n",
              "      <th>education</th>\n",
              "      <th>education-num</th>\n",
              "      <th>marital-status</th>\n",
              "      <th>occupation</th>\n",
              "      <th>relationship</th>\n",
              "      <th>race</th>\n",
              "      <th>sex</th>\n",
              "      <th>capital-gain</th>\n",
              "      <th>capital-loss</th>\n",
              "      <th>hours-per-week</th>\n",
              "      <th>native-country</th>\n",
              "      <th>income</th>\n",
              "    </tr>\n",
              "  </thead>\n",
              "  <tbody>\n",
              "    <tr>\n",
              "      <th>0</th>\n",
              "      <td>39</td>\n",
              "      <td>State-gov</td>\n",
              "      <td>77516</td>\n",
              "      <td>Bachelors</td>\n",
              "      <td>13</td>\n",
              "      <td>Never-married</td>\n",
              "      <td>Adm-clerical</td>\n",
              "      <td>Not-in-family</td>\n",
              "      <td>White</td>\n",
              "      <td>Male</td>\n",
              "      <td>2174</td>\n",
              "      <td>0</td>\n",
              "      <td>40</td>\n",
              "      <td>United-States</td>\n",
              "      <td>&lt;=50K</td>\n",
              "    </tr>\n",
              "    <tr>\n",
              "      <th>1</th>\n",
              "      <td>50</td>\n",
              "      <td>Self-emp-not-inc</td>\n",
              "      <td>83311</td>\n",
              "      <td>Bachelors</td>\n",
              "      <td>13</td>\n",
              "      <td>Married-civ-spouse</td>\n",
              "      <td>Exec-managerial</td>\n",
              "      <td>Husband</td>\n",
              "      <td>White</td>\n",
              "      <td>Male</td>\n",
              "      <td>0</td>\n",
              "      <td>0</td>\n",
              "      <td>13</td>\n",
              "      <td>United-States</td>\n",
              "      <td>&lt;=50K</td>\n",
              "    </tr>\n",
              "    <tr>\n",
              "      <th>2</th>\n",
              "      <td>38</td>\n",
              "      <td>Private</td>\n",
              "      <td>215646</td>\n",
              "      <td>HS-grad</td>\n",
              "      <td>9</td>\n",
              "      <td>Divorced</td>\n",
              "      <td>Handlers-cleaners</td>\n",
              "      <td>Not-in-family</td>\n",
              "      <td>White</td>\n",
              "      <td>Male</td>\n",
              "      <td>0</td>\n",
              "      <td>0</td>\n",
              "      <td>40</td>\n",
              "      <td>United-States</td>\n",
              "      <td>&lt;=50K</td>\n",
              "    </tr>\n",
              "    <tr>\n",
              "      <th>3</th>\n",
              "      <td>53</td>\n",
              "      <td>Private</td>\n",
              "      <td>234721</td>\n",
              "      <td>11th</td>\n",
              "      <td>7</td>\n",
              "      <td>Married-civ-spouse</td>\n",
              "      <td>Handlers-cleaners</td>\n",
              "      <td>Husband</td>\n",
              "      <td>Black</td>\n",
              "      <td>Male</td>\n",
              "      <td>0</td>\n",
              "      <td>0</td>\n",
              "      <td>40</td>\n",
              "      <td>United-States</td>\n",
              "      <td>&lt;=50K</td>\n",
              "    </tr>\n",
              "    <tr>\n",
              "      <th>4</th>\n",
              "      <td>28</td>\n",
              "      <td>Private</td>\n",
              "      <td>338409</td>\n",
              "      <td>Bachelors</td>\n",
              "      <td>13</td>\n",
              "      <td>Married-civ-spouse</td>\n",
              "      <td>Prof-specialty</td>\n",
              "      <td>Wife</td>\n",
              "      <td>Black</td>\n",
              "      <td>Female</td>\n",
              "      <td>0</td>\n",
              "      <td>0</td>\n",
              "      <td>40</td>\n",
              "      <td>Cuba</td>\n",
              "      <td>&lt;=50K</td>\n",
              "    </tr>\n",
              "    <tr>\n",
              "      <th>...</th>\n",
              "      <td>...</td>\n",
              "      <td>...</td>\n",
              "      <td>...</td>\n",
              "      <td>...</td>\n",
              "      <td>...</td>\n",
              "      <td>...</td>\n",
              "      <td>...</td>\n",
              "      <td>...</td>\n",
              "      <td>...</td>\n",
              "      <td>...</td>\n",
              "      <td>...</td>\n",
              "      <td>...</td>\n",
              "      <td>...</td>\n",
              "      <td>...</td>\n",
              "      <td>...</td>\n",
              "    </tr>\n",
              "    <tr>\n",
              "      <th>32556</th>\n",
              "      <td>27</td>\n",
              "      <td>Private</td>\n",
              "      <td>257302</td>\n",
              "      <td>Assoc-acdm</td>\n",
              "      <td>12</td>\n",
              "      <td>Married-civ-spouse</td>\n",
              "      <td>Tech-support</td>\n",
              "      <td>Wife</td>\n",
              "      <td>White</td>\n",
              "      <td>Female</td>\n",
              "      <td>0</td>\n",
              "      <td>0</td>\n",
              "      <td>38</td>\n",
              "      <td>United-States</td>\n",
              "      <td>&lt;=50K</td>\n",
              "    </tr>\n",
              "    <tr>\n",
              "      <th>32557</th>\n",
              "      <td>40</td>\n",
              "      <td>Private</td>\n",
              "      <td>154374</td>\n",
              "      <td>HS-grad</td>\n",
              "      <td>9</td>\n",
              "      <td>Married-civ-spouse</td>\n",
              "      <td>Machine-op-inspct</td>\n",
              "      <td>Husband</td>\n",
              "      <td>White</td>\n",
              "      <td>Male</td>\n",
              "      <td>0</td>\n",
              "      <td>0</td>\n",
              "      <td>40</td>\n",
              "      <td>United-States</td>\n",
              "      <td>&gt;50K</td>\n",
              "    </tr>\n",
              "    <tr>\n",
              "      <th>32558</th>\n",
              "      <td>58</td>\n",
              "      <td>Private</td>\n",
              "      <td>151910</td>\n",
              "      <td>HS-grad</td>\n",
              "      <td>9</td>\n",
              "      <td>Widowed</td>\n",
              "      <td>Adm-clerical</td>\n",
              "      <td>Unmarried</td>\n",
              "      <td>White</td>\n",
              "      <td>Female</td>\n",
              "      <td>0</td>\n",
              "      <td>0</td>\n",
              "      <td>40</td>\n",
              "      <td>United-States</td>\n",
              "      <td>&lt;=50K</td>\n",
              "    </tr>\n",
              "    <tr>\n",
              "      <th>32559</th>\n",
              "      <td>22</td>\n",
              "      <td>Private</td>\n",
              "      <td>201490</td>\n",
              "      <td>HS-grad</td>\n",
              "      <td>9</td>\n",
              "      <td>Never-married</td>\n",
              "      <td>Adm-clerical</td>\n",
              "      <td>Own-child</td>\n",
              "      <td>White</td>\n",
              "      <td>Male</td>\n",
              "      <td>0</td>\n",
              "      <td>0</td>\n",
              "      <td>20</td>\n",
              "      <td>United-States</td>\n",
              "      <td>&lt;=50K</td>\n",
              "    </tr>\n",
              "    <tr>\n",
              "      <th>32560</th>\n",
              "      <td>52</td>\n",
              "      <td>Self-emp-inc</td>\n",
              "      <td>287927</td>\n",
              "      <td>HS-grad</td>\n",
              "      <td>9</td>\n",
              "      <td>Married-civ-spouse</td>\n",
              "      <td>Exec-managerial</td>\n",
              "      <td>Wife</td>\n",
              "      <td>White</td>\n",
              "      <td>Female</td>\n",
              "      <td>15024</td>\n",
              "      <td>0</td>\n",
              "      <td>40</td>\n",
              "      <td>United-States</td>\n",
              "      <td>&gt;50K</td>\n",
              "    </tr>\n",
              "  </tbody>\n",
              "</table>\n",
              "<p>32561 rows × 15 columns</p>\n",
              "</div>\n",
              "      <button class=\"colab-df-convert\" onclick=\"convertToInteractive('df-e446ce87-9e6a-4356-bc07-3f72e00af3e3')\"\n",
              "              title=\"Convert this dataframe to an interactive table.\"\n",
              "              style=\"display:none;\">\n",
              "        \n",
              "  <svg xmlns=\"http://www.w3.org/2000/svg\" height=\"24px\"viewBox=\"0 0 24 24\"\n",
              "       width=\"24px\">\n",
              "    <path d=\"M0 0h24v24H0V0z\" fill=\"none\"/>\n",
              "    <path d=\"M18.56 5.44l.94 2.06.94-2.06 2.06-.94-2.06-.94-.94-2.06-.94 2.06-2.06.94zm-11 1L8.5 8.5l.94-2.06 2.06-.94-2.06-.94L8.5 2.5l-.94 2.06-2.06.94zm10 10l.94 2.06.94-2.06 2.06-.94-2.06-.94-.94-2.06-.94 2.06-2.06.94z\"/><path d=\"M17.41 7.96l-1.37-1.37c-.4-.4-.92-.59-1.43-.59-.52 0-1.04.2-1.43.59L10.3 9.45l-7.72 7.72c-.78.78-.78 2.05 0 2.83L4 21.41c.39.39.9.59 1.41.59.51 0 1.02-.2 1.41-.59l7.78-7.78 2.81-2.81c.8-.78.8-2.07 0-2.86zM5.41 20L4 18.59l7.72-7.72 1.47 1.35L5.41 20z\"/>\n",
              "  </svg>\n",
              "      </button>\n",
              "      \n",
              "  <style>\n",
              "    .colab-df-container {\n",
              "      display:flex;\n",
              "      flex-wrap:wrap;\n",
              "      gap: 12px;\n",
              "    }\n",
              "\n",
              "    .colab-df-convert {\n",
              "      background-color: #E8F0FE;\n",
              "      border: none;\n",
              "      border-radius: 50%;\n",
              "      cursor: pointer;\n",
              "      display: none;\n",
              "      fill: #1967D2;\n",
              "      height: 32px;\n",
              "      padding: 0 0 0 0;\n",
              "      width: 32px;\n",
              "    }\n",
              "\n",
              "    .colab-df-convert:hover {\n",
              "      background-color: #E2EBFA;\n",
              "      box-shadow: 0px 1px 2px rgba(60, 64, 67, 0.3), 0px 1px 3px 1px rgba(60, 64, 67, 0.15);\n",
              "      fill: #174EA6;\n",
              "    }\n",
              "\n",
              "    [theme=dark] .colab-df-convert {\n",
              "      background-color: #3B4455;\n",
              "      fill: #D2E3FC;\n",
              "    }\n",
              "\n",
              "    [theme=dark] .colab-df-convert:hover {\n",
              "      background-color: #434B5C;\n",
              "      box-shadow: 0px 1px 3px 1px rgba(0, 0, 0, 0.15);\n",
              "      filter: drop-shadow(0px 1px 2px rgba(0, 0, 0, 0.3));\n",
              "      fill: #FFFFFF;\n",
              "    }\n",
              "  </style>\n",
              "\n",
              "      <script>\n",
              "        const buttonEl =\n",
              "          document.querySelector('#df-e446ce87-9e6a-4356-bc07-3f72e00af3e3 button.colab-df-convert');\n",
              "        buttonEl.style.display =\n",
              "          google.colab.kernel.accessAllowed ? 'block' : 'none';\n",
              "\n",
              "        async function convertToInteractive(key) {\n",
              "          const element = document.querySelector('#df-e446ce87-9e6a-4356-bc07-3f72e00af3e3');\n",
              "          const dataTable =\n",
              "            await google.colab.kernel.invokeFunction('convertToInteractive',\n",
              "                                                     [key], {});\n",
              "          if (!dataTable) return;\n",
              "\n",
              "          const docLinkHtml = 'Like what you see? Visit the ' +\n",
              "            '<a target=\"_blank\" href=https://colab.research.google.com/notebooks/data_table.ipynb>data table notebook</a>'\n",
              "            + ' to learn more about interactive tables.';\n",
              "          element.innerHTML = '';\n",
              "          dataTable['output_type'] = 'display_data';\n",
              "          await google.colab.output.renderOutput(dataTable, element);\n",
              "          const docLink = document.createElement('div');\n",
              "          docLink.innerHTML = docLinkHtml;\n",
              "          element.appendChild(docLink);\n",
              "        }\n",
              "      </script>\n",
              "    </div>\n",
              "  </div>\n",
              "  "
            ]
          },
          "metadata": {},
          "execution_count": 2
        }
      ]
    },
    {
      "cell_type": "markdown",
      "source": [
        "2. The type of job attribute has 1836 missing values, the\n",
        "occupation attribute has 1843 missing values, and the native\n",
        "country has 583 missing values.\n",
        "All missing values are entered as ?.\n",
        "Fill in all the missing values with the mean value of that attribute if it is\n",
        "numerical, and the most common occurrence of that value if it is\n",
        "categorical. "
      ],
      "metadata": {
        "id": "3SEvWhA5gFKF"
      }
    },
    {
      "cell_type": "code",
      "source": [
        "#2\n",
        "print('workclass missing values:', (df['workclass'].values == ' ?').sum())\n",
        "print('occupation missing values:', (df['occupation'].values == ' ?').sum())\n",
        "print('native-country missing values:', (df['native-country'].values == ' ?').sum())"
      ],
      "metadata": {
        "colab": {
          "base_uri": "https://localhost:8080/"
        },
        "id": "6YK8IWE4gHH8",
        "outputId": "2240e5d5-48b4-4e8a-a440-f808a47288d4"
      },
      "execution_count": 3,
      "outputs": [
        {
          "output_type": "stream",
          "name": "stdout",
          "text": [
            "workclass missing values: 1836\n",
            "occupation missing values: 1843\n",
            "native-country missing values: 583\n"
          ]
        }
      ]
    },
    {
      "cell_type": "code",
      "source": [
        "#2\n",
        "df = df.replace(' ?', np.nan)\n",
        "df.isna().sum()\n"
      ],
      "metadata": {
        "colab": {
          "base_uri": "https://localhost:8080/"
        },
        "id": "dEaahVaFhI2S",
        "outputId": "e4b707bf-30cb-47a0-949d-379a7c59c0f1"
      },
      "execution_count": 4,
      "outputs": [
        {
          "output_type": "execute_result",
          "data": {
            "text/plain": [
              "age                  0\n",
              "workclass         1836\n",
              "fnlwgt               0\n",
              "education            0\n",
              "education-num        0\n",
              "marital-status       0\n",
              "occupation        1843\n",
              "relationship         0\n",
              "race                 0\n",
              "sex                  0\n",
              "capital-gain         0\n",
              "capital-loss         0\n",
              "hours-per-week       0\n",
              "native-country     583\n",
              "income               0\n",
              "dtype: int64"
            ]
          },
          "metadata": {},
          "execution_count": 4
        }
      ]
    },
    {
      "cell_type": "code",
      "source": [
        "#2\n",
        "df[['age','fnlwgt','education-num','capital-gain','capital-loss','hours-per-week']] = df[['age','fnlwgt','education-num','capital-gain','capital-loss','hours-per-week']].apply(lambda x: x.fillna(x.mean()))\n",
        "df[['workclass','education','marital-status','occupation','relationship','race','sex','native-country','income']] = df[['workclass','education','marital-status','occupation','relationship','race','sex','native-country','income']].apply(lambda x: x.fillna(x.mode()[0]))\n",
        "\n",
        "df.isna().sum()"
      ],
      "metadata": {
        "colab": {
          "base_uri": "https://localhost:8080/"
        },
        "id": "Zp6jH692hVSt",
        "outputId": "f6b030db-29ee-4bb2-c549-f3c28e02929e"
      },
      "execution_count": 5,
      "outputs": [
        {
          "output_type": "execute_result",
          "data": {
            "text/plain": [
              "age               0\n",
              "workclass         0\n",
              "fnlwgt            0\n",
              "education         0\n",
              "education-num     0\n",
              "marital-status    0\n",
              "occupation        0\n",
              "relationship      0\n",
              "race              0\n",
              "sex               0\n",
              "capital-gain      0\n",
              "capital-loss      0\n",
              "hours-per-week    0\n",
              "native-country    0\n",
              "income            0\n",
              "dtype: int64"
            ]
          },
          "metadata": {},
          "execution_count": 5
        }
      ]
    },
    {
      "cell_type": "markdown",
      "source": [
        "3. There are 24 duplicate records in this dataset, delete them"
      ],
      "metadata": {
        "id": "twq0oFGdhxZX"
      }
    },
    {
      "cell_type": "code",
      "source": [
        "#3\n",
        "df.duplicated().sum()"
      ],
      "metadata": {
        "colab": {
          "base_uri": "https://localhost:8080/"
        },
        "id": "N3CWjvy7h0PB",
        "outputId": "5529041c-fe75-410a-dbd1-2c939abb0f28"
      },
      "execution_count": 6,
      "outputs": [
        {
          "output_type": "execute_result",
          "data": {
            "text/plain": [
              "24"
            ]
          },
          "metadata": {},
          "execution_count": 6
        }
      ]
    },
    {
      "cell_type": "code",
      "source": [
        "#3\n",
        "df = df.drop_duplicates()\n",
        "df.duplicated().sum()"
      ],
      "metadata": {
        "colab": {
          "base_uri": "https://localhost:8080/"
        },
        "id": "bcbCGJlZh8w8",
        "outputId": "15b9f36a-010e-48d8-f975-b9d9398388c2"
      },
      "execution_count": 7,
      "outputs": [
        {
          "output_type": "execute_result",
          "data": {
            "text/plain": [
              "0"
            ]
          },
          "metadata": {},
          "execution_count": 7
        }
      ]
    },
    {
      "cell_type": "markdown",
      "source": [
        "4. Run df.shape. "
      ],
      "metadata": {
        "id": "VTWEpXM7iG5I"
      }
    },
    {
      "cell_type": "code",
      "source": [
        "#4\n",
        "df.shape"
      ],
      "metadata": {
        "colab": {
          "base_uri": "https://localhost:8080/"
        },
        "id": "i6B2VXiYiEB4",
        "outputId": "7ce7c26a-bbc4-43c4-ed93-1fb477b5529c"
      },
      "execution_count": 8,
      "outputs": [
        {
          "output_type": "execute_result",
          "data": {
            "text/plain": [
              "(32537, 15)"
            ]
          },
          "metadata": {},
          "execution_count": 8
        }
      ]
    },
    {
      "cell_type": "markdown",
      "source": [
        "5. Encode the categorical columns using get_dummies, then run a\n",
        "df_encoded.shape"
      ],
      "metadata": {
        "id": "rfgEoWvxiNWR"
      }
    },
    {
      "cell_type": "code",
      "source": [
        "#5\n",
        "df_encoded = pd.get_dummies(df, columns=[\"workclass\", \"education\", \"marital-status\", \"occupation\", \"relationship\", \"race\", \"sex\", \"native-country\"])\n",
        "df_encoded.shape"
      ],
      "metadata": {
        "colab": {
          "base_uri": "https://localhost:8080/"
        },
        "id": "ESK_TsxNiTxg",
        "outputId": "b9c7f7da-590f-4ce0-f61e-010253636db6"
      },
      "execution_count": 9,
      "outputs": [
        {
          "output_type": "execute_result",
          "data": {
            "text/plain": [
              "(32537, 106)"
            ]
          },
          "metadata": {},
          "execution_count": 9
        }
      ]
    },
    {
      "cell_type": "markdown",
      "source": [
        "6. Split the data into 80% training set and 20% testing set, run .shape for\n",
        "the created X_train, X_test, y_train, y_test."
      ],
      "metadata": {
        "id": "OUEHwIoHie9o"
      }
    },
    {
      "cell_type": "code",
      "source": [
        "#6\n",
        "from sklearn.model_selection import train_test_split\n",
        "\n",
        "key = {' <=50K': 0, ' >50K': 1}\n",
        "X = df_encoded.iloc[:,df_encoded.columns != 'income']\n",
        "y = df_encoded['income'].map(key)\n",
        "SEED = 4\n",
        "\n",
        "X_train, X_test, y_train, y_test = train_test_split(X,y, test_size=0.20,random_state=SEED, stratify=y)"
      ],
      "metadata": {
        "id": "HfdOwq9Fihqe"
      },
      "execution_count": 10,
      "outputs": []
    },
    {
      "cell_type": "code",
      "source": [
        "#6\n",
        "print(X_train.shape, X_test.shape, y_train.shape, y_test.shape)"
      ],
      "metadata": {
        "colab": {
          "base_uri": "https://localhost:8080/"
        },
        "id": "cHYFF632iuAj",
        "outputId": "a8cb0e81-4b5f-42ac-867c-846931d55a68"
      },
      "execution_count": 11,
      "outputs": [
        {
          "output_type": "stream",
          "name": "stdout",
          "text": [
            "(26029, 105) (6508, 105) (26029,) (6508,)\n"
          ]
        }
      ]
    },
    {
      "cell_type": "markdown",
      "source": [
        "#PCA (40 Marks, 8 Marks per task) "
      ],
      "metadata": {
        "id": "GOzzy3dyi18g"
      }
    },
    {
      "cell_type": "markdown",
      "source": [
        "7. Train a Random Forest classifier on the dataset to predict whether\n",
        "income exceeds $50K/yr based on census data and time how long it\n",
        "takes (using %time). "
      ],
      "metadata": {
        "id": "tG3018zHi8ix"
      }
    },
    {
      "cell_type": "code",
      "source": [
        "#7\n",
        "from sklearn.ensemble import RandomForestClassifier\n",
        "\n",
        "rfclf = RandomForestClassifier(n_estimators=500, max_leaf_nodes=16, n_jobs=-1, random_state=42)\n",
        "\n",
        "%time rfclf.fit(X_train, y_train)"
      ],
      "metadata": {
        "colab": {
          "base_uri": "https://localhost:8080/"
        },
        "id": "_AQY27rji_9x",
        "outputId": "f5196525-0e9e-49f1-f7b0-b402047946c5"
      },
      "execution_count": 12,
      "outputs": [
        {
          "output_type": "stream",
          "name": "stdout",
          "text": [
            "CPU times: user 9.99 s, sys: 240 ms, total: 10.2 s\n",
            "Wall time: 18.3 s\n"
          ]
        },
        {
          "output_type": "execute_result",
          "data": {
            "text/plain": [
              "RandomForestClassifier(max_leaf_nodes=16, n_estimators=500, n_jobs=-1,\n",
              "                       random_state=42)"
            ]
          },
          "metadata": {},
          "execution_count": 12
        }
      ]
    },
    {
      "cell_type": "markdown",
      "source": [
        "8. Evaluate the resulting model on the test set using accuracy_score."
      ],
      "metadata": {
        "id": "1xtfffZLkazY"
      }
    },
    {
      "cell_type": "code",
      "source": [
        "#8\n",
        "from sklearn.metrics import accuracy_score\n",
        "\n",
        "y_pred = rfclf.predict(X_test)\n",
        "\n",
        "print(f'Accuracy Score: {accuracy_score(y_test, y_pred)}')"
      ],
      "metadata": {
        "colab": {
          "base_uri": "https://localhost:8080/"
        },
        "id": "wtvjI7QRkeOL",
        "outputId": "2d999c70-a9c6-44ce-dba4-d347b09760f8"
      },
      "execution_count": 13,
      "outputs": [
        {
          "output_type": "stream",
          "name": "stdout",
          "text": [
            "Accuracy Score: 0.8385064535955746\n"
          ]
        }
      ]
    },
    {
      "cell_type": "markdown",
      "source": [
        "9. Next, use PCA to reduce the dataset’s dimensionality, with an explained\n",
        "variance ratio of 95%. "
      ],
      "metadata": {
        "id": "6twlrEQblIHM"
      }
    },
    {
      "cell_type": "code",
      "source": [
        "#9\n",
        "from sklearn.decomposition import PCA\n",
        "from sklearn.preprocessing import StandardScaler\n",
        "\n",
        "features = StandardScaler().fit_transform(X)\n",
        "\n",
        "pca = PCA(n_components=0.95)\n",
        "features_pca = pca.fit_transform(features,y)\n",
        "\n",
        "X_train_pca, X_test_pca, y_train_pca, y_test_pca = train_test_split(features_pca,y, test_size=0.20,random_state=SEED, stratify=y)"
      ],
      "metadata": {
        "id": "_WbUWn-hlI1U"
      },
      "execution_count": 14,
      "outputs": []
    },
    {
      "cell_type": "markdown",
      "source": [
        "10.Train a new Random Forest classifier on the reduced dataset and see\n",
        "how long it takes. Was the training faster? Or slower?"
      ],
      "metadata": {
        "id": "3qHG1vSomRYy"
      }
    },
    {
      "cell_type": "code",
      "source": [
        "#10\n",
        "\n",
        "rfclf_pca = RandomForestClassifier(n_estimators=500, max_leaf_nodes=16, n_jobs=-1, random_state=42)\n",
        "\n",
        "%time rfclf_pca.fit(X_train_pca, y_train_pca)"
      ],
      "metadata": {
        "colab": {
          "base_uri": "https://localhost:8080/"
        },
        "id": "av4i6vhmmR5n",
        "outputId": "18b76c04-a346-409b-e79a-3104dee70738"
      },
      "execution_count": 15,
      "outputs": [
        {
          "output_type": "stream",
          "name": "stdout",
          "text": [
            "CPU times: user 1min 23s, sys: 166 ms, total: 1min 23s\n",
            "Wall time: 44.7 s\n"
          ]
        },
        {
          "output_type": "execute_result",
          "data": {
            "text/plain": [
              "RandomForestClassifier(max_leaf_nodes=16, n_estimators=500, n_jobs=-1,\n",
              "                       random_state=42)"
            ]
          },
          "metadata": {},
          "execution_count": 15
        }
      ]
    },
    {
      "cell_type": "markdown",
      "source": [
        "For this dataset and the RandomForestClassifier() PCA did not help to speed up the model, instead it increased the time it took to train."
      ],
      "metadata": {
        "id": "JlPw0OOkVyXw"
      }
    },
    {
      "cell_type": "markdown",
      "source": [
        "11. Next, evaluate the classifier from step 10 on the test set using\n",
        "accuracy_score. How does it compare to the previous classifier?\n",
        "Did PCA improve accuracy?"
      ],
      "metadata": {
        "id": "oGzRO7hKr3oW"
      }
    },
    {
      "cell_type": "code",
      "source": [
        "#11\n",
        "y_pred_pca = rfclf_pca.predict(X_test_pca)\n",
        "\n",
        "print(f'Accuracy Score with PCA: {accuracy_score(y_test_pca, y_pred_pca)}')"
      ],
      "metadata": {
        "colab": {
          "base_uri": "https://localhost:8080/"
        },
        "id": "FHLSkpx0r66M",
        "outputId": "0c721691-1fac-4d14-a455-69a10438c806"
      },
      "execution_count": 16,
      "outputs": [
        {
          "output_type": "stream",
          "name": "stdout",
          "text": [
            "Accuracy Score with PCA: 0.8106945298094653\n"
          ]
        }
      ]
    },
    {
      "cell_type": "markdown",
      "source": [
        "For this dataset and the RandomForestClassifier() PCA did not help to make the model more accurate, instead it decreased its accuracy slightly."
      ],
      "metadata": {
        "id": "I2HddZYaWDkL"
      }
    },
    {
      "cell_type": "markdown",
      "source": [
        "#Neural Network (60 Marks, 4 Marks per task, 15 tasks)"
      ],
      "metadata": {
        "id": "7bK0D_LWWvkS"
      }
    },
    {
      "cell_type": "markdown",
      "source": [
        "12. Load CIFAR10 small images classification dataset using\n",
        "tf.keras.datasets.cifar10.load_data()\n",
        "The CIFAR-10 dataset consists of 60000 32x32 colour images in 10\n",
        "classes, with 6000 images per class. There are 50000 training images and\n",
        "10000 test images."
      ],
      "metadata": {
        "id": "3Nzwv-b7W1EC"
      }
    },
    {
      "cell_type": "code",
      "source": [
        "#12\n",
        "import tensorflow as tf\n",
        "\n",
        "(x_full, y_full), (x_test, y_test) = tf.keras.datasets.cifar10.load_data()"
      ],
      "metadata": {
        "id": "8zJayq_JXvBf"
      },
      "execution_count": 20,
      "outputs": []
    },
    {
      "cell_type": "code",
      "source": [
        "print(x_full.shape, y_full.shape)"
      ],
      "metadata": {
        "colab": {
          "base_uri": "https://localhost:8080/"
        },
        "id": "d9ZvbW1k5JKs",
        "outputId": "7950947a-cf2c-4e51-be84-643a7f8e259e"
      },
      "execution_count": 24,
      "outputs": [
        {
          "output_type": "stream",
          "name": "stdout",
          "text": [
            "(50000, 32, 32, 3) (50000, 1)\n"
          ]
        }
      ]
    },
    {
      "cell_type": "markdown",
      "source": [
        "13. Split the training dataset into 90% training and 10% validation"
      ],
      "metadata": {
        "id": "WayvEThHYDP_"
      }
    },
    {
      "cell_type": "code",
      "source": [
        "#13\n",
        "X_train, X_val, y_train, y_val = train_test_split(x_full,y_full, test_size=0.10,random_state=SEED, stratify=y_full)"
      ],
      "metadata": {
        "id": "V_dZAfO1zQDr"
      },
      "execution_count": 26,
      "outputs": []
    },
    {
      "cell_type": "code",
      "source": [
        "#13\n",
        "print(X_train.shape, y_train.shape)"
      ],
      "metadata": {
        "colab": {
          "base_uri": "https://localhost:8080/"
        },
        "id": "D80pjcOO5krj",
        "outputId": "0defe150-d087-4b83-a336-ddb78f5ed28d"
      },
      "execution_count": 27,
      "outputs": [
        {
          "output_type": "stream",
          "name": "stdout",
          "text": [
            "(45000, 32, 32, 3) (45000, 1)\n"
          ]
        }
      ]
    },
    {
      "cell_type": "markdown",
      "source": [
        "14. Scale the pixel intensities down to the 0–1 range by dividing them by\n",
        "255 (this also converts them to floats):"
      ],
      "metadata": {
        "id": "lYPvEFWJ-bVw"
      }
    },
    {
      "cell_type": "code",
      "source": [
        "#14\n",
        "X_train, X_val, X_test = X_train / 255, X_val / 255, X_test / 255"
      ],
      "metadata": {
        "id": "1p8OHD69-peI"
      },
      "execution_count": 28,
      "outputs": []
    },
    {
      "cell_type": "markdown",
      "source": [
        "15.Build a DNN using keras.models.Sequential to classify images\n",
        "using 2 hidden layers of 50 neurons each.\n",
        "Use relu activation function and he_normal kernel initializer"
      ],
      "metadata": {
        "id": "bMb9vl5O_3Ny"
      }
    },
    {
      "cell_type": "code",
      "source": [
        "#15\n",
        "from tensorflow import keras\n",
        "from tensorflow.keras import layers\n",
        "\n",
        "model = keras.Sequential(\n",
        "    [\n",
        "        layers.Flatten(input_shape=(32, 32, 3)),\n",
        "        layers.Dense(50, activation=\"relu\", name=\"h1\", kernel_initializer=\"he_normal\"),\n",
        "        layers.Dense(50, activation=\"relu\", name=\"h2\", kernel_initializer=\"he_normal\"),\n",
        "        layers.Dense(10, activation=\"softmax\", name=\"output\"),\n",
        "    ]\n",
        ")"
      ],
      "metadata": {
        "id": "NT6HwBQ-AFQ-"
      },
      "execution_count": 52,
      "outputs": []
    },
    {
      "cell_type": "markdown",
      "source": [
        "16. Display model.summary(), what is the total number of trainable\n",
        "parameters?"
      ],
      "metadata": {
        "id": "BhpS_T1t_Qoi"
      }
    },
    {
      "cell_type": "code",
      "source": [
        "#16\n",
        "model.summary()\n",
        "# Total params: 156,710\n",
        "# Trainable params: 156,710"
      ],
      "metadata": {
        "colab": {
          "base_uri": "https://localhost:8080/"
        },
        "id": "t-wl6tEK_HIt",
        "outputId": "3b5358ea-5fa7-43a4-97f2-581d139e911a"
      },
      "execution_count": 53,
      "outputs": [
        {
          "output_type": "stream",
          "name": "stdout",
          "text": [
            "Model: \"sequential_3\"\n",
            "_________________________________________________________________\n",
            " Layer (type)                Output Shape              Param #   \n",
            "=================================================================\n",
            " flatten_3 (Flatten)         (None, 3072)              0         \n",
            "                                                                 \n",
            " h1 (Dense)                  (None, 50)                153650    \n",
            "                                                                 \n",
            " h2 (Dense)                  (None, 50)                2550      \n",
            "                                                                 \n",
            " output (Dense)              (None, 10)                510       \n",
            "                                                                 \n",
            "=================================================================\n",
            "Total params: 156,710\n",
            "Trainable params: 156,710\n",
            "Non-trainable params: 0\n",
            "_________________________________________________________________\n"
          ]
        }
      ]
    },
    {
      "cell_type": "markdown",
      "source": [
        "17. Display the model using keras.utils.plot_model"
      ],
      "metadata": {
        "id": "1TjP_mOk_g5U"
      }
    },
    {
      "cell_type": "code",
      "source": [
        "#17\n",
        "from tensorflow.keras.utils import plot_model\n",
        "\n",
        "plot_model(model)"
      ],
      "metadata": {
        "colab": {
          "base_uri": "https://localhost:8080/",
          "height": 466
        },
        "id": "IdTV3baR_kQz",
        "outputId": "f6e23a25-0b2b-4d30-f92e-8f5e262e0e8b"
      },
      "execution_count": 54,
      "outputs": [
        {
          "output_type": "execute_result",
          "data": {
            "image/png": "[encoded data removed]",
            "text/plain": [
              "<IPython.core.display.Image object>"
            ]
          },
          "metadata": {},
          "execution_count": 54
        }
      ]
    },
    {
      "cell_type": "markdown",
      "source": [
        "18. Display the weights and biases in the first hidden layer.\n"
      ],
      "metadata": {
        "id": "uOirZSOaAEdt"
      }
    },
    {
      "cell_type": "code",
      "source": [
        "#18\n",
        "h1 = model.layers[1]\n",
        "weights, biases = h1.get_weights()\n",
        "print(\"Weights: \", weights)\n",
        "print(\"Biases: \", biases)"
      ],
      "metadata": {
        "colab": {
          "base_uri": "https://localhost:8080/"
        },
        "id": "Sues-yqqAGuH",
        "outputId": "39fda445-1621-4d36-80e1-726d06d1885b"
      },
      "execution_count": 55,
      "outputs": [
        {
          "output_type": "stream",
          "name": "stdout",
          "text": [
            "Weights:  [[-0.01550975 -0.01220965 -0.00719521 ... -0.00688274  0.02115889\n",
            "  -0.04251421]\n",
            " [-0.02231627  0.0431627  -0.02042076 ...  0.01004737 -0.01862872\n",
            "  -0.03018292]\n",
            " [ 0.01645773 -0.00366683  0.01634623 ...  0.01127006  0.0028938\n",
            "  -0.01559449]\n",
            " ...\n",
            " [ 0.01217132  0.01176717 -0.01636043 ... -0.01723271 -0.0184187\n",
            "  -0.01141947]\n",
            " [-0.01812699  0.02851396 -0.0176473  ... -0.02215322  0.02399907\n",
            "   0.0169176 ]\n",
            " [ 0.00306555  0.02592325  0.01826535 ... -0.02426892  0.0084552\n",
            "   0.01014239]]\n",
            "Biases:  [0. 0. 0. 0. 0. 0. 0. 0. 0. 0. 0. 0. 0. 0. 0. 0. 0. 0. 0. 0. 0. 0. 0. 0.\n",
            " 0. 0. 0. 0. 0. 0. 0. 0. 0. 0. 0. 0. 0. 0. 0. 0. 0. 0. 0. 0. 0. 0. 0. 0.\n",
            " 0. 0.]\n"
          ]
        }
      ]
    },
    {
      "cell_type": "markdown",
      "source": [
        "19. Compile the model using a loss function of\n",
        "sparse_categorical_crossentropy, set the optimizer as SGD,\n",
        "and accuracy (sparse_categorical_accuracy) metric.\n"
      ],
      "metadata": {
        "id": "n8trfvcCC8U6"
      }
    },
    {
      "cell_type": "code",
      "source": [
        "#19 \n",
        "model.compile(optimizer='SGD', loss=\"sparse_categorical_crossentropy\", metrics=\"sparse_categorical_accuracy\")"
      ],
      "metadata": {
        "id": "c75jg9_HC-yY"
      },
      "execution_count": 56,
      "outputs": []
    },
    {
      "cell_type": "markdown",
      "source": [
        "20. Fit the model using 10 epochs."
      ],
      "metadata": {
        "id": "6pvf3S_LDT8d"
      }
    },
    {
      "cell_type": "code",
      "source": [
        "#20\n",
        "tuned_model = model.fit(X_train,y_train, epochs=10, validation_data=(X_val, y_val))"
      ],
      "metadata": {
        "colab": {
          "base_uri": "https://localhost:8080/"
        },
        "id": "HpUBWJyfDUur",
        "outputId": "b838035c-b66a-4973-8b36-e95fff554c33"
      },
      "execution_count": 63,
      "outputs": [
        {
          "output_type": "stream",
          "name": "stdout",
          "text": [
            "Epoch 1/10\n",
            "1407/1407 [==============================] - 6s 4ms/step - loss: 1.3760 - sparse_categorical_accuracy: 0.5132 - val_loss: 1.6208 - val_sparse_categorical_accuracy: 0.4300\n",
            "Epoch 2/10\n",
            "1407/1407 [==============================] - 8s 6ms/step - loss: 1.3690 - sparse_categorical_accuracy: 0.5152 - val_loss: 1.6271 - val_sparse_categorical_accuracy: 0.4406\n",
            "Epoch 3/10\n",
            "1407/1407 [==============================] - 10s 7ms/step - loss: 1.3625 - sparse_categorical_accuracy: 0.5164 - val_loss: 1.5079 - val_sparse_categorical_accuracy: 0.4828\n",
            "Epoch 4/10\n",
            "1407/1407 [==============================] - 8s 6ms/step - loss: 1.3543 - sparse_categorical_accuracy: 0.5207 - val_loss: 1.4953 - val_sparse_categorical_accuracy: 0.4698\n",
            "Epoch 5/10\n",
            "1407/1407 [==============================] - 6s 4ms/step - loss: 1.3491 - sparse_categorical_accuracy: 0.5208 - val_loss: 1.5969 - val_sparse_categorical_accuracy: 0.4480\n",
            "Epoch 6/10\n",
            "1407/1407 [==============================] - 7s 5ms/step - loss: 1.3419 - sparse_categorical_accuracy: 0.5229 - val_loss: 1.4637 - val_sparse_categorical_accuracy: 0.4808\n",
            "Epoch 7/10\n",
            "1407/1407 [==============================] - 5s 3ms/step - loss: 1.3349 - sparse_categorical_accuracy: 0.5274 - val_loss: 1.6220 - val_sparse_categorical_accuracy: 0.4392\n",
            "Epoch 8/10\n",
            "1407/1407 [==============================] - 5s 3ms/step - loss: 1.3278 - sparse_categorical_accuracy: 0.5282 - val_loss: 1.5450 - val_sparse_categorical_accuracy: 0.4548\n",
            "Epoch 9/10\n",
            "1407/1407 [==============================] - 5s 3ms/step - loss: 1.3230 - sparse_categorical_accuracy: 0.5326 - val_loss: 1.5991 - val_sparse_categorical_accuracy: 0.4466\n",
            "Epoch 10/10\n",
            "1407/1407 [==============================] - 5s 3ms/step - loss: 1.3158 - sparse_categorical_accuracy: 0.5337 - val_loss: 1.4833 - val_sparse_categorical_accuracy: 0.4714\n"
          ]
        }
      ]
    },
    {
      "cell_type": "markdown",
      "source": [
        "21. Plot loss, accuracy, val_loss, and val_accuracy."
      ],
      "metadata": {
        "id": "-UmzeENqD355"
      }
    },
    {
      "cell_type": "code",
      "source": [
        "#21\n",
        "import matplotlib.pyplot as plt\n",
        "\n",
        "pd.DataFrame(tuned_model.history).plot(figsize=(8, 5),  xlim=[0, 9], ylim=[0, 2.5], grid=True, xlabel=\"Epoch\", style=[\"r--\", \"r--.\", \"b-\", \"b-*\"])\n",
        "\n",
        "plt.legend(loc=\"best\")\n",
        "\n",
        "plt.show()"
      ],
      "metadata": {
        "colab": {
          "base_uri": "https://localhost:8080/",
          "height": 338
        },
        "id": "nfnLwbxdD6Qn",
        "outputId": "b5450239-b6c4-4a1c-e2eb-3e9f837daf84"
      },
      "execution_count": 64,
      "outputs": [
        {
          "output_type": "display_data",
          "data": {
            "text/plain": [
              "<Figure size 576x360 with 1 Axes>"
            ],
            "image/png": "[encoded data removed]"
          },
          "metadata": {
            "needs_background": "light"
          }
        }
      ]
    },
    {
      "cell_type": "markdown",
      "source": [
        "22. Fine-tune the following hyperparameters using Keras Tuner: number of\n",
        "hidden layers, number of neurons, learning rate, and the optimizer"
      ],
      "metadata": {
        "id": "78ULdFU3F0Oj"
      }
    },
    {
      "cell_type": "code",
      "source": [
        "#22\n",
        "!pip install -q -U keras-tuner\n",
        "import keras_tuner as kt\n",
        "\n",
        "def build_model(hp):\n",
        "    n_hidden = hp.Int(\"n_hidden\", min_value=2, max_value=10, default=2)\n",
        "    n_neurons = hp.Int(\"n_neurons\", min_value=50, max_value=256)\n",
        "    learning_rate = hp.Float(\"learning_rate\", min_value=1e-4, max_value=1e-2,\n",
        "                             sampling=\"log\")\n",
        "    optimizer = hp.Choice(\"optimizer\", values=[\"sgd\", \"adam\"])\n",
        "    if optimizer == \"sgd\":\n",
        "        optimizer = tf.keras.optimizers.SGD(learning_rate=learning_rate)\n",
        "    else:\n",
        "        optimizer = tf.keras.optimizers.Adam(learning_rate=learning_rate)\n",
        "\n",
        "    model = tf.keras.Sequential()\n",
        "    model.add(tf.keras.layers.Flatten())\n",
        "    for _ in range(n_hidden):\n",
        "        model.add(tf.keras.layers.Dense(n_neurons, activation=\"relu\"))\n",
        "    model.add(tf.keras.layers.Dense(10, activation=\"softmax\"))\n",
        "    model.compile(loss=\"sparse_categorical_crossentropy\", optimizer=optimizer,\n",
        "                  metrics=[\"accuracy\"])\n",
        "    return model"
      ],
      "metadata": {
        "id": "vmzbukBCF2a0"
      },
      "execution_count": 71,
      "outputs": []
    },
    {
      "cell_type": "markdown",
      "source": [
        "23. Use the code from the attached notebook as a skeleton for your Keras\n",
        "tuner portion in your notebook."
      ],
      "metadata": {
        "id": "AxoQfXS5G1DC"
      }
    },
    {
      "cell_type": "code",
      "source": [
        "#23\n",
        "random_search_tuner = kt.RandomSearch(\n",
        "    build_model, objective=\"val_accuracy\", max_trials=10, overwrite=False,\n",
        "    directory=\"my_cifar10_models\", project_name=\"my_rnd_search\", seed=42)\n",
        "random_search_tuner.search(X_train, y_train, epochs=10,\n",
        "                           validation_data=(X_val, y_val))"
      ],
      "metadata": {
        "colab": {
          "base_uri": "https://localhost:8080/"
        },
        "id": "7wusBhjCG2Vw",
        "outputId": "2981eae5-c07c-46a5-d233-828f0a927476"
      },
      "execution_count": 87,
      "outputs": [
        {
          "output_type": "stream",
          "name": "stdout",
          "text": [
            "Trial 10 Complete [00h 01m 13s]\n",
            "val_accuracy: 0.4691999852657318\n",
            "\n",
            "Best val_accuracy So Far: 0.47620001435279846\n",
            "Total elapsed time: 00h 14m 47s\n"
          ]
        }
      ]
    },
    {
      "cell_type": "markdown",
      "source": [
        "24. What are the best hyperparameters values for the best model? "
      ],
      "metadata": {
        "id": "RuCxmlsAJPX1"
      }
    },
    {
      "cell_type": "code",
      "source": [
        "#24\n",
        "top_params = random_search_tuner.get_best_hyperparameters()\n",
        "top_params[0].values"
      ],
      "metadata": {
        "colab": {
          "base_uri": "https://localhost:8080/"
        },
        "id": "j_DWhjhQJRE2",
        "outputId": "54ec7cd9-943a-459e-ccd8-215bee7e9814"
      },
      "execution_count": 82,
      "outputs": [
        {
          "output_type": "execute_result",
          "data": {
            "text/plain": [
              "{'n_hidden': 7,\n",
              " 'n_neurons': 94,\n",
              " 'learning_rate': 0.00014023399602325874,\n",
              " 'optimizer': 'adam'}"
            ]
          },
          "metadata": {},
          "execution_count": 82
        }
      ]
    },
    {
      "cell_type": "markdown",
      "source": [
        "25. Plot loss, accuracy, val_loss, and val_accuracy."
      ],
      "metadata": {
        "id": "GcdPrl0zLutx"
      }
    },
    {
      "cell_type": "code",
      "source": [
        "#25\n",
        "best_models = random_search_tuner.get_best_models()\n",
        "best_model = best_models[0]\n",
        "\n",
        "tuned_model = best_model.fit(X_train, y_train, epochs=10,\n",
        "                    validation_data=(X_val, y_val))"
      ],
      "metadata": {
        "colab": {
          "base_uri": "https://localhost:8080/"
        },
        "id": "wdMCPxdeLwZK",
        "outputId": "00fd5406-f62b-472f-d46f-b07c6d4d3fb7"
      },
      "execution_count": 90,
      "outputs": [
        {
          "output_type": "stream",
          "name": "stdout",
          "text": [
            "Epoch 1/10\n",
            "1407/1407 [==============================] - 12s 8ms/step - loss: 1.4091 - accuracy: 0.4932 - val_loss: 1.4687 - val_accuracy: 0.4660\n",
            "Epoch 2/10\n",
            "1407/1407 [==============================] - 12s 8ms/step - loss: 1.3908 - accuracy: 0.5002 - val_loss: 1.4531 - val_accuracy: 0.4796\n",
            "Epoch 3/10\n",
            "1407/1407 [==============================] - 15s 10ms/step - loss: 1.3672 - accuracy: 0.5103 - val_loss: 1.4609 - val_accuracy: 0.4736\n",
            "Epoch 4/10\n",
            "1407/1407 [==============================] - 12s 8ms/step - loss: 1.3476 - accuracy: 0.5175 - val_loss: 1.4465 - val_accuracy: 0.4770\n",
            "Epoch 5/10\n",
            "1407/1407 [==============================] - 11s 8ms/step - loss: 1.3323 - accuracy: 0.5222 - val_loss: 1.4727 - val_accuracy: 0.4652\n",
            "Epoch 6/10\n",
            "1407/1407 [==============================] - 12s 8ms/step - loss: 1.3123 - accuracy: 0.5328 - val_loss: 1.4152 - val_accuracy: 0.4928\n",
            "Epoch 7/10\n",
            "1407/1407 [==============================] - 12s 8ms/step - loss: 1.2923 - accuracy: 0.5394 - val_loss: 1.4112 - val_accuracy: 0.4888\n",
            "Epoch 8/10\n",
            "1407/1407 [==============================] - 12s 8ms/step - loss: 1.2757 - accuracy: 0.5432 - val_loss: 1.4087 - val_accuracy: 0.4882\n",
            "Epoch 9/10\n",
            "1407/1407 [==============================] - 11s 8ms/step - loss: 1.2606 - accuracy: 0.5505 - val_loss: 1.4144 - val_accuracy: 0.4928\n",
            "Epoch 10/10\n",
            "1407/1407 [==============================] - 11s 8ms/step - loss: 1.2446 - accuracy: 0.5553 - val_loss: 1.4330 - val_accuracy: 0.4952\n"
          ]
        }
      ]
    },
    {
      "cell_type": "code",
      "source": [
        "#25\n",
        "pd.DataFrame(tuned_model.history).plot(figsize=(8, 5),  xlim=[0, 9], ylim=[0, 2.5], grid=True, xlabel=\"Epoch\", style=[\"r--\", \"r--.\", \"b-\", \"b-*\"])\n",
        "\n",
        "plt.legend(loc=\"best\")\n",
        "\n",
        "plt.show()"
      ],
      "metadata": {
        "colab": {
          "base_uri": "https://localhost:8080/",
          "height": 338
        },
        "id": "MoqiWnf4V2rp",
        "outputId": "1023ddbd-2aa3-48aa-9f6e-dc28fb4a95c8"
      },
      "execution_count": 91,
      "outputs": [
        {
          "output_type": "display_data",
          "data": {
            "text/plain": [
              "<Figure size 576x360 with 1 Axes>"
            ],
            "image/png": "[encoded data removed]"
          },
          "metadata": {
            "needs_background": "light"
          }
        }
      ]
    },
    {
      "cell_type": "markdown",
      "source": [
        "26. Display the model using keras.utils.plot_model"
      ],
      "metadata": {
        "id": "ByL1WlhbWff0"
      }
    },
    {
      "cell_type": "code",
      "source": [
        "#26\n",
        "plot_model(best_model, show_shapes=True)"
      ],
      "metadata": {
        "colab": {
          "base_uri": "https://localhost:8080/",
          "height": 1000
        },
        "id": "wbI3ijs8WgaH",
        "outputId": "dccadb15-540d-4835-b94e-3b534d30814d"
      },
      "execution_count": 94,
      "outputs": [
        {
          "output_type": "execute_result",
          "data": {
            "image/png": "[encoded data removed]",
            "text/plain": [
              "<IPython.core.display.Image object>"
            ]
          },
          "metadata": {},
          "execution_count": 94
        }
      ]
    }
  ]
}